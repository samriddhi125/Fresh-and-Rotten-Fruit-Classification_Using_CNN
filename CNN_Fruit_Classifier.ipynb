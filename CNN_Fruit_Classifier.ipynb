{
 "cells": [
  {
   "cell_type": "markdown",
   "metadata": {},
   "source": [
    "## The Dataset"
   ]
  },
  {
   "cell_type": "markdown",
   "metadata": {},
   "source": [
    "The dataset comes from [Kaggle](https://www.kaggle.com/sriramr/fruits-fresh-and-rotten-for-classification). There are 6 categories of fruits: fresh apples, fresh oranges, fresh bananas, rotten apples, rotten oranges, and rotten bananas."
   ]
  },
  {
   "cell_type": "markdown",
   "metadata": {},
   "source": [
    "## Load ImageNet Base Model"
   ]
  },
  {
   "cell_type": "code",
   "execution_count": 1,
   "metadata": {},
   "outputs": [
    {
     "name": "stdout",
     "output_type": "stream",
     "text": [
      "Downloading data from https://storage.googleapis.com/tensorflow/keras-applications/vgg16/vgg16_weights_tf_dim_ordering_tf_kernels_notop.h5\n",
      "58892288/58889256 [==============================] - 0s 0us/step\n"
     ]
    }
   ],
   "source": [
    "from tensorflow import keras\n",
    "\n",
    "base_model = keras.applications.VGG16(\n",
    "    weights='imagenet',\n",
    "    input_shape=(224, 224, 3),\n",
    "    include_top=False)"
   ]
  },
  {
   "cell_type": "markdown",
   "metadata": {},
   "source": [
    "## Freeze Base Model"
   ]
  },
  {
   "cell_type": "code",
   "execution_count": 2,
   "metadata": {},
   "outputs": [],
   "source": [
    "# Freeze base model\n",
    "base_model.trainable = False"
   ]
  },
  {
   "cell_type": "markdown",
   "metadata": {},
   "source": [
    "## Add Layers to Model"
   ]
  },
  {
   "cell_type": "code",
   "execution_count": 3,
   "metadata": {},
   "outputs": [],
   "source": [
    "# Create inputs with correct shape\n",
    "inputs = keras.Input(shape=(224, 224, 3))\n",
    "\n",
    "x = base_model(inputs, training=False)\n",
    "\n",
    "# Add pooling layer or flatten layer\n",
    "x =  keras.layers.GlobalAveragePooling2D()(x)\n",
    "\n",
    "# Add final dense layer\n",
    "outputs = keras.layers.Dense(1, activation = 'softmax')(x)\n",
    "\n",
    "# Combine inputs and outputs to create model\n",
    "model = keras.Model(inputs, outputs)"
   ]
  },
  {
   "cell_type": "code",
   "execution_count": 4,
   "metadata": {},
   "outputs": [
    {
     "name": "stdout",
     "output_type": "stream",
     "text": [
      "Model: \"model\"\n",
      "_________________________________________________________________\n",
      "Layer (type)                 Output Shape              Param #   \n",
      "=================================================================\n",
      "input_2 (InputLayer)         [(None, 224, 224, 3)]     0         \n",
      "_________________________________________________________________\n",
      "vgg16 (Model)                (None, 7, 7, 512)         14714688  \n",
      "_________________________________________________________________\n",
      "global_average_pooling2d (Gl (None, 512)               0         \n",
      "_________________________________________________________________\n",
      "dense (Dense)                (None, 1)                 513       \n",
      "=================================================================\n",
      "Total params: 14,715,201\n",
      "Trainable params: 513\n",
      "Non-trainable params: 14,714,688\n",
      "_________________________________________________________________\n"
     ]
    }
   ],
   "source": [
    "model.summary()"
   ]
  },
  {
   "cell_type": "markdown",
   "metadata": {},
   "source": [
    "## Compile Model"
   ]
  },
  {
   "cell_type": "code",
   "execution_count": 5,
   "metadata": {},
   "outputs": [],
   "source": [
    "model.compile(loss = 'categorical_crossentropy' , metrics = ['accuracy'])"
   ]
  },
  {
   "cell_type": "markdown",
   "metadata": {},
   "source": [
    "## Augment the Data"
   ]
  },
  {
   "cell_type": "code",
   "execution_count": 6,
   "metadata": {},
   "outputs": [],
   "source": [
    "from tensorflow.keras.preprocessing.image import ImageDataGenerator\n",
    "\n",
    "datagen = ImageDataGenerator(rotation_range=10,  # randomly rotate images in the range (degrees, 0 to 180)\n",
    "    zoom_range=0.1,  # Randomly zoom image\n",
    "    width_shift_range=0.1,  # randomly shift images horizontally (fraction of total width)\n",
    "    height_shift_range=0.1,  # randomly shift images vertically (fraction of total height)\n",
    "    horizontal_flip=True,  # randomly flip images horizontally\n",
    "    vertical_flip=False, # Don't randomly flip images vertically\n",
    ")"
   ]
  },
  {
   "cell_type": "markdown",
   "metadata": {},
   "source": [
    "## Load Dataset"
   ]
  },
  {
   "cell_type": "code",
   "execution_count": 8,
   "metadata": {},
   "outputs": [
    {
     "name": "stdout",
     "output_type": "stream",
     "text": [
      "Found 1182 images belonging to 6 classes.\n",
      "Found 329 images belonging to 6 classes.\n"
     ]
    }
   ],
   "source": [
    "# load and iterate training dataset\n",
    "train_it = datagen.flow_from_directory('data/fruits/train', \n",
    "                                       target_size=(224, 224), \n",
    "                                       color_mode='rgb', \n",
    "                                       class_mode=\"categorical\")\n",
    "# load and iterate validation dataset\n",
    "valid_it = datagen.flow_from_directory('data/fruits/valid', \n",
    "                                      target_size=(224, 224), \n",
    "                                      color_mode='rgb', \n",
    "                                      class_mode=\"categorical\")"
   ]
  },
  {
   "cell_type": "markdown",
   "metadata": {},
   "source": [
    "## Train the Model"
   ]
  },
  {
   "cell_type": "code",
   "execution_count": 9,
   "metadata": {},
   "outputs": [
    {
     "name": "stdout",
     "output_type": "stream",
     "text": [
      "Epoch 1/20\n",
      "37/36 [==============================] - 29s 791ms/step - loss: 0.5626 - accuracy: 0.9236 - val_loss: 0.3163 - val_accuracy: 0.9671\n",
      "Epoch 2/20\n",
      "37/36 [==============================] - 21s 559ms/step - loss: 0.1942 - accuracy: 0.9811 - val_loss: 0.1844 - val_accuracy: 0.9802\n",
      "Epoch 3/20\n",
      "37/36 [==============================] - 20s 536ms/step - loss: 0.1311 - accuracy: 0.9870 - val_loss: 0.1405 - val_accuracy: 0.9868\n",
      "Epoch 4/20\n",
      "37/36 [==============================] - 20s 532ms/step - loss: 0.0986 - accuracy: 0.9911 - val_loss: 0.1404 - val_accuracy: 0.9802\n",
      "Epoch 5/20\n",
      "37/36 [==============================] - 20s 531ms/step - loss: 0.0810 - accuracy: 0.9920 - val_loss: 0.1114 - val_accuracy: 0.9894\n",
      "Epoch 6/20\n",
      "37/36 [==============================] - 20s 531ms/step - loss: 0.0661 - accuracy: 0.9931 - val_loss: 0.1055 - val_accuracy: 0.9919\n",
      "Epoch 7/20\n",
      "37/36 [==============================] - 20s 533ms/step - loss: 0.0538 - accuracy: 0.9952 - val_loss: 0.1798 - val_accuracy: 0.9802\n",
      "Epoch 8/20\n",
      "37/36 [==============================] - 20s 541ms/step - loss: 0.0462 - accuracy: 0.9962 - val_loss: 0.0969 - val_accuracy: 0.9909\n",
      "Epoch 9/20\n",
      "37/36 [==============================] - 20s 533ms/step - loss: 0.0455 - accuracy: 0.9945 - val_loss: 0.3021 - val_accuracy: 0.9656\n",
      "Epoch 10/20\n",
      "37/36 [==============================] - 20s 532ms/step - loss: 0.0343 - accuracy: 0.9972 - val_loss: 0.0922 - val_accuracy: 0.9919\n",
      "Epoch 11/20\n",
      "37/36 [==============================] - 19s 526ms/step - loss: 0.0313 - accuracy: 0.9975 - val_loss: 0.0928 - val_accuracy: 0.9899\n",
      "Epoch 12/20\n",
      "37/36 [==============================] - 20s 535ms/step - loss: 0.0294 - accuracy: 0.9980 - val_loss: 0.1008 - val_accuracy: 0.9889\n",
      "Epoch 13/20\n",
      "37/36 [==============================] - 20s 530ms/step - loss: 0.0292 - accuracy: 0.9962 - val_loss: 0.0942 - val_accuracy: 0.9929\n",
      "Epoch 14/20\n",
      "37/36 [==============================] - 20s 534ms/step - loss: 0.0223 - accuracy: 0.9973 - val_loss: 0.1063 - val_accuracy: 0.9878\n",
      "Epoch 15/20\n",
      "37/36 [==============================] - 20s 530ms/step - loss: 0.0217 - accuracy: 0.9979 - val_loss: 0.0832 - val_accuracy: 0.9899\n",
      "Epoch 16/20\n",
      "37/36 [==============================] - 20s 532ms/step - loss: 0.0202 - accuracy: 0.9973 - val_loss: 0.1296 - val_accuracy: 0.9909\n",
      "Epoch 17/20\n",
      "37/36 [==============================] - 20s 530ms/step - loss: 0.0246 - accuracy: 0.9979 - val_loss: 0.1115 - val_accuracy: 0.9883\n",
      "Epoch 18/20\n",
      "37/36 [==============================] - 20s 535ms/step - loss: 0.0133 - accuracy: 0.9994 - val_loss: 0.0783 - val_accuracy: 0.9929\n",
      "Epoch 19/20\n",
      "37/36 [==============================] - 20s 532ms/step - loss: 0.0193 - accuracy: 0.9982 - val_loss: 0.1069 - val_accuracy: 0.9838\n",
      "Epoch 20/20\n",
      "37/36 [==============================] - 20s 531ms/step - loss: 0.0177 - accuracy: 0.9987 - val_loss: 0.1084 - val_accuracy: 0.9883\n"
     ]
    },
    {
     "data": {
      "text/plain": [
       "<tensorflow.python.keras.callbacks.History at 0x7f953c3b4400>"
      ]
     },
     "execution_count": 9,
     "metadata": {},
     "output_type": "execute_result"
    }
   ],
   "source": [
    "model.fit(train_it,\n",
    "          validation_data=valid_it,\n",
    "          steps_per_epoch=train_it.samples/train_it.batch_size,\n",
    "          validation_steps=valid_it.samples/valid_it.batch_size,\n",
    "          epochs=20)"
   ]
  },
  {
   "cell_type": "markdown",
   "metadata": {},
   "source": [
    "## Unfreeze Model for Fine Tuning"
   ]
  },
  {
   "cell_type": "code",
   "execution_count": null,
   "metadata": {},
   "outputs": [],
   "source": [
    "# Unfreeze the base model\n",
    "base_model.trainable = True\n",
    "\n",
    "# Compile the model with a low learning rate\n",
    "model.compile(optimizer=keras.optimizers.RMSprop(learning_rate = .00001),\n",
    "              loss = keras.losses.BinaryCrossentropy(from_logits=True) , metrics = [keras.metrics.BinaryAccuracy()])"
   ]
  },
  {
   "cell_type": "code",
   "execution_count": null,
   "metadata": {},
   "outputs": [],
   "source": [
    "model.fit(train_it,\n",
    "          validation_data=valid_it,\n",
    "          steps_per_epoch=train_it.samples/train_it.batch_size,\n",
    "          validation_steps=valid_it.samples/valid_it.batch_size,\n",
    "          epochs=20)"
   ]
  },
  {
   "cell_type": "markdown",
   "metadata": {},
   "source": [
    "## Evaluate the Model"
   ]
  },
  {
   "cell_type": "code",
   "execution_count": 10,
   "metadata": {},
   "outputs": [
    {
     "name": "stdout",
     "output_type": "stream",
     "text": [
      "11/10 [================================] - 4s 352ms/step - loss: 0.0954 - accuracy: 0.9909\n"
     ]
    },
    {
     "data": {
      "text/plain": [
       "[0.09536366164684296, 0.9908814430236816]"
      ]
     },
     "execution_count": 10,
     "metadata": {},
     "output_type": "execute_result"
    }
   ],
   "source": [
    "model.evaluate(valid_it, steps=valid_it.samples/valid_it.batch_size)"
   ]
  }
 ],
 "metadata": {
  "kernelspec": {
   "display_name": "Python 3",
   "language": "python",
   "name": "python3"
  },
  "language_info": {
   "codemirror_mode": {
    "name": "ipython",
    "version": 3
   },
   "file_extension": ".py",
   "mimetype": "text/x-python",
   "name": "python",
   "nbconvert_exporter": "python",
   "pygments_lexer": "ipython3",
   "version": "3.6.9"
  }
 },
 "nbformat": 4,
 "nbformat_minor": 4
}
